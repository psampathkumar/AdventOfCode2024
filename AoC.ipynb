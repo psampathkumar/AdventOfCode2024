{
 "cells": [
  {
   "cell_type": "code",
   "execution_count": 1,
   "id": "caf1dafd-cbe3-4b19-8cb8-2b9804c63254",
   "metadata": {},
   "outputs": [],
   "source": [
    "import numpy as np\n",
    "\n"
   ]
  },
  {
   "cell_type": "markdown",
   "id": "1752154c-ea15-4255-8644-42ceec8e5bf4",
   "metadata": {},
   "source": [
    "## Day1\n",
    "\n",
    "https://adventofcode.com/2024/day/1"
   ]
  },
  {
   "cell_type": "code",
   "execution_count": 2,
   "id": "04d57ed3-d12f-4b43-b994-473237ceb308",
   "metadata": {},
   "outputs": [
    {
     "name": "stdout",
     "output_type": "stream",
     "text": [
      "2815556.0\n"
     ]
    }
   ],
   "source": [
    "#Part 1\n",
    "data = np.loadtxt(\"./puzzle_files/aoc1.txt\")\n",
    "print(np.abs(np.sort(data[:,0]) - np.sort(data[:,1])).sum())"
   ]
  },
  {
   "cell_type": "code",
   "execution_count": 3,
   "id": "69c5aa27-0b7c-4017-8f63-b78aed245f8c",
   "metadata": {},
   "outputs": [
    {
     "name": "stdout",
     "output_type": "stream",
     "text": [
      "23927637.0\n"
     ]
    }
   ],
   "source": [
    "# Part 2\n",
    "ans = 0\n",
    "for k in data[:,0]:\n",
    "    ans += k*(data[:,1] == k).sum()\n",
    "print(ans)"
   ]
  },
  {
   "cell_type": "markdown",
   "id": "02e5b292-e840-4809-a3a8-284f2e0861ca",
   "metadata": {},
   "source": [
    "## Day 2\n",
    "\n",
    "https://adventofcode.com/2024/day/2"
   ]
  },
  {
   "cell_type": "code",
   "execution_count": 4,
   "id": "e4c69ad4-f06a-4fb5-812a-d1c0101e4ac3",
   "metadata": {},
   "outputs": [],
   "source": [
    "with open(\"./puzzle_files/aoc2.txt\", \"r\") as f:\n",
    "    lines = f.readlines()\n",
    "    #print(lines)\n",
    "\n",
    "def report_safe(dd):\n",
    "    return (((dd == np.sort(dd)).all() or (dd == np.sort(dd)[::-1]).all()) and (np.abs(np.diff(dd)) <= 3).all() and (np.abs(np.diff(dd)) >= 1).all())"
   ]
  },
  {
   "cell_type": "code",
   "execution_count": 5,
   "id": "b5a56ab2-fc35-41c5-acc4-42e603153495",
   "metadata": {},
   "outputs": [
    {
     "name": "stdout",
     "output_type": "stream",
     "text": [
      "230\n"
     ]
    }
   ],
   "source": [
    "# Part 1\n",
    "ans = 0\n",
    "for line in lines:\n",
    "    dd = np.array(line.split(), dtype=np.float64)\n",
    "    if report_safe(dd):\n",
    "        ans += 1\n",
    "\n",
    "print(ans)"
   ]
  },
  {
   "cell_type": "code",
   "execution_count": 6,
   "id": "8c31ee5c-2fa3-498c-a9a2-4846eb828212",
   "metadata": {},
   "outputs": [
    {
     "name": "stdout",
     "output_type": "stream",
     "text": [
      "301\n"
     ]
    }
   ],
   "source": [
    "# Part 2\n",
    "ans = 0\n",
    "for line in lines:\n",
    "    dd = np.array(line.split(), dtype=np.float64)\n",
    "    if report_safe(dd):\n",
    "        ans += 1\n",
    "    else:\n",
    "        for i in range(len(dd)):\n",
    "            dd2 = np.delete(np.copy(dd), i)\n",
    "            if report_safe(dd2):\n",
    "                ans += 1\n",
    "                break\n",
    "\n",
    "print(ans)"
   ]
  },
  {
   "cell_type": "markdown",
   "id": "24cce0b3-5311-4488-a3ca-ffaec2c38513",
   "metadata": {},
   "source": [
    "## Day 3\n",
    "\n",
    "https://adventofcode.com/2024/day/3"
   ]
  },
  {
   "cell_type": "code",
   "execution_count": 7,
   "id": "789c6210-21ae-46c6-bf36-6296fe0a0e40",
   "metadata": {},
   "outputs": [],
   "source": [
    "with open(\"./puzzle_files/aoc3.txt\", \"r\") as f:\n",
    "    lines = f.readlines()"
   ]
  },
  {
   "cell_type": "code",
   "execution_count": 43,
   "id": "8bcd054e-2505-46d9-88ee-fda43d60a735",
   "metadata": {},
   "outputs": [
    {
     "name": "stdout",
     "output_type": "stream",
     "text": [
      "170778545.0\n"
     ]
    }
   ],
   "source": [
    "import re\n",
    "# Part 1\n",
    "ans = 0\n",
    "for line in lines:\n",
    "    muls = re.findall(\"mul\\(\\d+,\\d+\\)\", line)\n",
    "    nums = np.array([mul[4:-1].split(',') for mul in muls], dtype=np.uint64)\n",
    "    ans += (nums.prod(axis=1)).sum()\n",
    "print(ans)"
   ]
  },
  {
   "cell_type": "code",
   "execution_count": 82,
   "id": "3f7c30df-4a15-44f4-8655-fc2cdd4b24bf",
   "metadata": {},
   "outputs": [
    {
     "name": "stdout",
     "output_type": "stream",
     "text": [
      "82868252.0\n"
     ]
    }
   ],
   "source": [
    "# Part 2\n",
    "ans = 0\n",
    "doflag = True\n",
    "for line in lines:\n",
    "    muls = re.findall(\"(mul\\(\\d+,\\d+\\))|(do\\(\\))|(don\\'t\\(\\))\", line)\n",
    "    mul_array = []\n",
    "    for mul in muls:\n",
    "        if len(mul[1])+len(mul[2]) > 0:\n",
    "            assert len(mul[0]) == 0\n",
    "            if mul[1] == 'do()':\n",
    "                doflag=True\n",
    "            elif mul[2] == \"don't()\":\n",
    "                doflag=False\n",
    "            else:\n",
    "                raise RunTimeError\n",
    "        else:\n",
    "            assert len(mul[0]) > 0\n",
    "            if doflag:\n",
    "                mul_array.append(mul[0][4:-1].split(','))\n",
    "\n",
    "    ans += np.array(mul_array, dtype=np.uint64).prod(axis=1).sum()\n",
    "print(ans)\n"
   ]
  },
  {
   "cell_type": "markdown",
   "id": "61636bd4-2a3a-49a3-bfb1-5b14f26523fe",
   "metadata": {},
   "source": [
    "## Day 4\n",
    "\n",
    "https://adventofcode.com/2024/day/4"
   ]
  },
  {
   "cell_type": "code",
   "execution_count": 104,
   "id": "5d95c9d0-83c0-48be-9b84-2aecc6127b12",
   "metadata": {},
   "outputs": [],
   "source": [
    "# Part 1\n",
    "lines = np.loadtxt(\"./puzzle_files/aoc4.txt\", dtype=str)\n",
    "# make array\n",
    "data = np.zeros((140, 140), dtype=str)\n",
    "\n",
    "for i in range(len(lines)):\n",
    "    data[i] = list(lines[i])"
   ]
  },
  {
   "cell_type": "code",
   "execution_count": 130,
   "id": "7ff31912-8177-4574-9e8e-f9f6396027fc",
   "metadata": {},
   "outputs": [
    {
     "name": "stdout",
     "output_type": "stream",
     "text": [
      "2358\n"
     ]
    }
   ],
   "source": [
    "# Part 1\n",
    "ans = 0\n",
    "for line in data:\n",
    "    muls = re.findall(\"(XMAS)\", ''.join(line))\n",
    "    ans += len(muls)\n",
    "    muls = re.findall(\"(SAMX)\", ''.join(line))\n",
    "    ans += len(muls)\n",
    "\n",
    "#transpose\n",
    "for line in data.T:\n",
    "    muls = re.findall(\"(XMAS)\", ''.join(line))\n",
    "    ans += len(muls)\n",
    "    muls = re.findall(\"(SAMX)\", ''.join(line))\n",
    "    ans += len(muls)\n",
    "\n",
    "#digonal\n",
    "for i in range(-139, 140):\n",
    "    line = np.diagonal(data, i)\n",
    "    muls = re.findall(\"(XMAS)\", ''.join(line))\n",
    "    ans += len(muls)\n",
    "    muls = re.findall(\"(SAMX)\", ''.join(line))\n",
    "    ans += len(muls)\n",
    "    line = np.diagonal(np.fliplr(data), i)\n",
    "    muls = re.findall(\"(XMAS)\", ''.join(line))\n",
    "    ans += len(muls)\n",
    "    muls = re.findall(\"(SAMX)\", ''.join(line))\n",
    "    ans += len(muls)\n",
    "print(ans)"
   ]
  },
  {
   "cell_type": "code",
   "execution_count": 131,
   "id": "01a5808b-5138-4c8b-b845-ac162567cd8d",
   "metadata": {},
   "outputs": [
    {
     "name": "stdout",
     "output_type": "stream",
     "text": [
      "1737\n"
     ]
    }
   ],
   "source": [
    "# Part 2\n",
    "ans = 0\n",
    "for i in range(1, 139):\n",
    "    for j in range(1, 139):\n",
    "        box = data[i-1:i+2, j-1:j+2]\n",
    "        diag1 = ''.join(box.diagonal())\n",
    "        diag2 = ''.join(np.fliplr(box).diagonal())\n",
    "        if ((diag1 == \"MAS\") or (diag1 == \"SAM\")) and ((diag2 == \"MAS\") or (diag2 == \"SAM\")):\n",
    "            ans += 1\n",
    "print(ans)"
   ]
  },
  {
   "cell_type": "code",
   "execution_count": null,
   "id": "b379865c-b4ee-4b63-9825-d3d438eaa464",
   "metadata": {},
   "outputs": [],
   "source": []
  }
 ],
 "metadata": {
  "kernelspec": {
   "display_name": "Python 3 (ipykernel)",
   "language": "python",
   "name": "python3"
  },
  "language_info": {
   "codemirror_mode": {
    "name": "ipython",
    "version": 3
   },
   "file_extension": ".py",
   "mimetype": "text/x-python",
   "name": "python",
   "nbconvert_exporter": "python",
   "pygments_lexer": "ipython3",
   "version": "3.10.15"
  }
 },
 "nbformat": 4,
 "nbformat_minor": 5
}
