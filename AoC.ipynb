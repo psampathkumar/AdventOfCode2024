{
 "cells": [
  {
   "cell_type": "code",
   "execution_count": 1,
   "id": "caf1dafd-cbe3-4b19-8cb8-2b9804c63254",
   "metadata": {},
   "outputs": [],
   "source": [
    "import numpy as np\n",
    "\n"
   ]
  },
  {
   "cell_type": "markdown",
   "id": "1752154c-ea15-4255-8644-42ceec8e5bf4",
   "metadata": {},
   "source": [
    "## Day1\n",
    "\n",
    "https://adventofcode.com/2024/day/1"
   ]
  },
  {
   "cell_type": "code",
   "execution_count": 2,
   "id": "04d57ed3-d12f-4b43-b994-473237ceb308",
   "metadata": {},
   "outputs": [
    {
     "name": "stdout",
     "output_type": "stream",
     "text": [
      "2815556.0\n"
     ]
    }
   ],
   "source": [
    "#Part 1\n",
    "data = np.loadtxt(\"./puzzle_files/aoc1.txt\")\n",
    "print(np.abs(np.sort(data[:,0]) - np.sort(data[:,1])).sum())"
   ]
  },
  {
   "cell_type": "code",
   "execution_count": 3,
   "id": "69c5aa27-0b7c-4017-8f63-b78aed245f8c",
   "metadata": {},
   "outputs": [
    {
     "name": "stdout",
     "output_type": "stream",
     "text": [
      "23927637.0\n"
     ]
    }
   ],
   "source": [
    "# Part 2\n",
    "ans = 0\n",
    "for k in data[:,0]:\n",
    "    ans += k*(data[:,1] == k).sum()\n",
    "print(ans)"
   ]
  },
  {
   "cell_type": "markdown",
   "id": "02e5b292-e840-4809-a3a8-284f2e0861ca",
   "metadata": {},
   "source": [
    "## Day 2\n",
    "\n",
    "https://adventofcode.com/2024/day/2"
   ]
  },
  {
   "cell_type": "code",
   "execution_count": 4,
   "id": "e4c69ad4-f06a-4fb5-812a-d1c0101e4ac3",
   "metadata": {},
   "outputs": [],
   "source": [
    "with open(\"./puzzle_files/aoc2.txt\", \"r\") as f:\n",
    "    lines = f.readlines()\n",
    "    #print(lines)\n",
    "\n",
    "def report_safe(dd):\n",
    "    return (((dd == np.sort(dd)).all() or (dd == np.sort(dd)[::-1]).all()) and (np.abs(np.diff(dd)) <= 3).all() and (np.abs(np.diff(dd)) >= 1).all())"
   ]
  },
  {
   "cell_type": "code",
   "execution_count": 5,
   "id": "b5a56ab2-fc35-41c5-acc4-42e603153495",
   "metadata": {},
   "outputs": [
    {
     "name": "stdout",
     "output_type": "stream",
     "text": [
      "230\n"
     ]
    }
   ],
   "source": [
    "# Part 1\n",
    "ans = 0\n",
    "for line in lines:\n",
    "    dd = np.array(line.split(), dtype=np.float64)\n",
    "    if report_safe(dd):\n",
    "        ans += 1\n",
    "\n",
    "print(ans)"
   ]
  },
  {
   "cell_type": "code",
   "execution_count": 6,
   "id": "8c31ee5c-2fa3-498c-a9a2-4846eb828212",
   "metadata": {},
   "outputs": [
    {
     "name": "stdout",
     "output_type": "stream",
     "text": [
      "301\n"
     ]
    }
   ],
   "source": [
    "# Part 2\n",
    "ans = 0\n",
    "for line in lines:\n",
    "    dd = np.array(line.split(), dtype=np.float64)\n",
    "    if report_safe(dd):\n",
    "        ans += 1\n",
    "    else:\n",
    "        for i in range(len(dd)):\n",
    "            dd2 = np.delete(np.copy(dd), i)\n",
    "            if report_safe(dd2):\n",
    "                ans += 1\n",
    "                break\n",
    "\n",
    "print(ans)"
   ]
  },
  {
   "cell_type": "code",
   "execution_count": null,
   "id": "d20e10c7-7ea4-4e00-99b5-b6c03040e3bb",
   "metadata": {},
   "outputs": [],
   "source": []
  }
 ],
 "metadata": {
  "kernelspec": {
   "display_name": "Python 3 (ipykernel)",
   "language": "python",
   "name": "python3"
  },
  "language_info": {
   "codemirror_mode": {
    "name": "ipython",
    "version": 3
   },
   "file_extension": ".py",
   "mimetype": "text/x-python",
   "name": "python",
   "nbconvert_exporter": "python",
   "pygments_lexer": "ipython3",
   "version": "3.10.15"
  }
 },
 "nbformat": 4,
 "nbformat_minor": 5
}
