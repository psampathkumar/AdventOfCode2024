{
 "cells": [
  {
   "cell_type": "code",
   "execution_count": 1,
   "id": "caf1dafd-cbe3-4b19-8cb8-2b9804c63254",
   "metadata": {},
   "outputs": [],
   "source": [
    "import numpy as np\n",
    "\n"
   ]
  },
  {
   "cell_type": "markdown",
   "id": "1752154c-ea15-4255-8644-42ceec8e5bf4",
   "metadata": {},
   "source": [
    "## Day1\n",
    "\n",
    "https://adventofcode.com/2024/day/1"
   ]
  },
  {
   "cell_type": "code",
   "execution_count": 2,
   "id": "04d57ed3-d12f-4b43-b994-473237ceb308",
   "metadata": {},
   "outputs": [
    {
     "name": "stdout",
     "output_type": "stream",
     "text": [
      "2815556.0\n"
     ]
    }
   ],
   "source": [
    "#Part 1\n",
    "data = np.loadtxt(\"./puzzle_files/aoc1.txt\")\n",
    "print(np.abs(np.sort(data[:,0]) - np.sort(data[:,1])).sum())"
   ]
  },
  {
   "cell_type": "code",
   "execution_count": 3,
   "id": "69c5aa27-0b7c-4017-8f63-b78aed245f8c",
   "metadata": {},
   "outputs": [
    {
     "name": "stdout",
     "output_type": "stream",
     "text": [
      "23927637.0\n"
     ]
    }
   ],
   "source": [
    "# Part 2\n",
    "ans = 0\n",
    "for k in data[:,0]:\n",
    "    ans += k*(data[:,1] == k).sum()\n",
    "print(ans)"
   ]
  },
  {
   "cell_type": "markdown",
   "id": "02e5b292-e840-4809-a3a8-284f2e0861ca",
   "metadata": {},
   "source": [
    "## Day 2\n",
    "\n",
    "https://adventofcode.com/2024/day/2"
   ]
  },
  {
   "cell_type": "code",
   "execution_count": 4,
   "id": "e4c69ad4-f06a-4fb5-812a-d1c0101e4ac3",
   "metadata": {},
   "outputs": [],
   "source": [
    "with open(\"./puzzle_files/aoc2.txt\", \"r\") as f:\n",
    "    lines = f.readlines()\n",
    "    #print(lines)\n",
    "\n",
    "def report_safe(dd):\n",
    "    return (((dd == np.sort(dd)).all() or (dd == np.sort(dd)[::-1]).all()) and (np.abs(np.diff(dd)) <= 3).all() and (np.abs(np.diff(dd)) >= 1).all())"
   ]
  },
  {
   "cell_type": "code",
   "execution_count": 5,
   "id": "b5a56ab2-fc35-41c5-acc4-42e603153495",
   "metadata": {},
   "outputs": [
    {
     "name": "stdout",
     "output_type": "stream",
     "text": [
      "230\n"
     ]
    }
   ],
   "source": [
    "# Part 1\n",
    "ans = 0\n",
    "for line in lines:\n",
    "    dd = np.array(line.split(), dtype=np.float64)\n",
    "    if report_safe(dd):\n",
    "        ans += 1\n",
    "\n",
    "print(ans)"
   ]
  },
  {
   "cell_type": "code",
   "execution_count": 6,
   "id": "8c31ee5c-2fa3-498c-a9a2-4846eb828212",
   "metadata": {},
   "outputs": [
    {
     "name": "stdout",
     "output_type": "stream",
     "text": [
      "301\n"
     ]
    }
   ],
   "source": [
    "# Part 2\n",
    "ans = 0\n",
    "for line in lines:\n",
    "    dd = np.array(line.split(), dtype=np.float64)\n",
    "    if report_safe(dd):\n",
    "        ans += 1\n",
    "    else:\n",
    "        for i in range(len(dd)):\n",
    "            dd2 = np.delete(np.copy(dd), i)\n",
    "            if report_safe(dd2):\n",
    "                ans += 1\n",
    "                break\n",
    "\n",
    "print(ans)"
   ]
  },
  {
   "cell_type": "markdown",
   "id": "24cce0b3-5311-4488-a3ca-ffaec2c38513",
   "metadata": {},
   "source": [
    "## Day 3\n",
    "\n",
    "https://adventofcode.com/2024/day/3"
   ]
  },
  {
   "cell_type": "code",
   "execution_count": 7,
   "id": "789c6210-21ae-46c6-bf36-6296fe0a0e40",
   "metadata": {},
   "outputs": [],
   "source": [
    "with open(\"./puzzle_files/aoc3.txt\", \"r\") as f:\n",
    "    lines = f.readlines()"
   ]
  },
  {
   "cell_type": "code",
   "execution_count": 8,
   "id": "8bcd054e-2505-46d9-88ee-fda43d60a735",
   "metadata": {},
   "outputs": [
    {
     "name": "stdout",
     "output_type": "stream",
     "text": [
      "170778545.0\n"
     ]
    }
   ],
   "source": [
    "import re\n",
    "# Part 1\n",
    "ans = 0\n",
    "for line in lines:\n",
    "    muls = re.findall(\"mul\\(\\d+,\\d+\\)\", line)\n",
    "    nums = np.array([mul[4:-1].split(',') for mul in muls], dtype=np.uint64)\n",
    "    ans += (nums.prod(axis=1)).sum()\n",
    "print(ans)"
   ]
  },
  {
   "cell_type": "code",
   "execution_count": 9,
   "id": "3f7c30df-4a15-44f4-8655-fc2cdd4b24bf",
   "metadata": {},
   "outputs": [
    {
     "name": "stdout",
     "output_type": "stream",
     "text": [
      "82868252.0\n"
     ]
    }
   ],
   "source": [
    "# Part 2\n",
    "ans = 0\n",
    "doflag = True\n",
    "for line in lines:\n",
    "    muls = re.findall(\"(mul\\(\\d+,\\d+\\))|(do\\(\\))|(don\\'t\\(\\))\", line)\n",
    "    mul_array = []\n",
    "    for mul in muls:\n",
    "        if len(mul[1])+len(mul[2]) > 0:\n",
    "            assert len(mul[0]) == 0\n",
    "            if mul[1] == 'do()':\n",
    "                doflag=True\n",
    "            elif mul[2] == \"don't()\":\n",
    "                doflag=False\n",
    "            else:\n",
    "                raise RunTimeError\n",
    "        else:\n",
    "            assert len(mul[0]) > 0\n",
    "            if doflag:\n",
    "                mul_array.append(mul[0][4:-1].split(','))\n",
    "\n",
    "    ans += np.array(mul_array, dtype=np.uint64).prod(axis=1).sum()\n",
    "print(ans)\n"
   ]
  },
  {
   "cell_type": "markdown",
   "id": "61636bd4-2a3a-49a3-bfb1-5b14f26523fe",
   "metadata": {},
   "source": [
    "## Day 4\n",
    "\n",
    "https://adventofcode.com/2024/day/4"
   ]
  },
  {
   "cell_type": "code",
   "execution_count": 10,
   "id": "5d95c9d0-83c0-48be-9b84-2aecc6127b12",
   "metadata": {},
   "outputs": [],
   "source": [
    "# Part 1\n",
    "lines = np.loadtxt(\"./puzzle_files/aoc4.txt\", dtype=str)\n",
    "# make array\n",
    "data = np.zeros((140, 140), dtype=str)\n",
    "\n",
    "for i in range(len(lines)):\n",
    "    data[i] = list(lines[i])"
   ]
  },
  {
   "cell_type": "code",
   "execution_count": 11,
   "id": "7ff31912-8177-4574-9e8e-f9f6396027fc",
   "metadata": {},
   "outputs": [
    {
     "name": "stdout",
     "output_type": "stream",
     "text": [
      "2358\n"
     ]
    }
   ],
   "source": [
    "# Part 1\n",
    "ans = 0\n",
    "for line in data:\n",
    "    muls = re.findall(\"(XMAS)\", ''.join(line))\n",
    "    ans += len(muls)\n",
    "    muls = re.findall(\"(SAMX)\", ''.join(line))\n",
    "    ans += len(muls)\n",
    "\n",
    "#transpose\n",
    "for line in data.T:\n",
    "    muls = re.findall(\"(XMAS)\", ''.join(line))\n",
    "    ans += len(muls)\n",
    "    muls = re.findall(\"(SAMX)\", ''.join(line))\n",
    "    ans += len(muls)\n",
    "\n",
    "#digonal\n",
    "for i in range(-139, 140):\n",
    "    line = np.diagonal(data, i)\n",
    "    muls = re.findall(\"(XMAS)\", ''.join(line))\n",
    "    ans += len(muls)\n",
    "    muls = re.findall(\"(SAMX)\", ''.join(line))\n",
    "    ans += len(muls)\n",
    "    line = np.diagonal(np.fliplr(data), i)\n",
    "    muls = re.findall(\"(XMAS)\", ''.join(line))\n",
    "    ans += len(muls)\n",
    "    muls = re.findall(\"(SAMX)\", ''.join(line))\n",
    "    ans += len(muls)\n",
    "print(ans)"
   ]
  },
  {
   "cell_type": "code",
   "execution_count": 12,
   "id": "01a5808b-5138-4c8b-b845-ac162567cd8d",
   "metadata": {},
   "outputs": [
    {
     "name": "stdout",
     "output_type": "stream",
     "text": [
      "1737\n"
     ]
    }
   ],
   "source": [
    "# Part 2\n",
    "ans = 0\n",
    "for i in range(1, 139):\n",
    "    for j in range(1, 139):\n",
    "        box = data[i-1:i+2, j-1:j+2]\n",
    "        diag1 = ''.join(box.diagonal())\n",
    "        diag2 = ''.join(np.fliplr(box).diagonal())\n",
    "        if ((diag1 == \"MAS\") or (diag1 == \"SAM\")) and ((diag2 == \"MAS\") or (diag2 == \"SAM\")):\n",
    "            ans += 1\n",
    "print(ans)"
   ]
  },
  {
   "cell_type": "markdown",
   "id": "5b95f97b-20c2-4a55-a82e-9fa587e89ba2",
   "metadata": {},
   "source": [
    "## Day 5\n",
    "\n",
    "https://adventofcode.com/2024/day/5"
   ]
  },
  {
   "cell_type": "code",
   "execution_count": 13,
   "id": "f3425d94-6e45-4a98-99cb-5327a0b85a6e",
   "metadata": {},
   "outputs": [],
   "source": [
    "with open(\"./puzzle_files/aoc5.txt\", \"r\") as f:\n",
    "    lines = f.readlines()"
   ]
  },
  {
   "cell_type": "code",
   "execution_count": 14,
   "id": "9a2867bd-3f8d-472d-a26a-862319a96d5d",
   "metadata": {},
   "outputs": [],
   "source": [
    "ordering_rules = []\n",
    "update_order = []\n",
    "for line in lines:\n",
    "    if (len(line) == 6) and (line[2] == \"|\"):\n",
    "        ordering_rules.append([int(value) for value in line[:-1].split(\"|\")])\n",
    "    elif len(line) > 1:\n",
    "        update_order.append([int(value) for value in line[:-1].split(\",\")])\n",
    "        \n",
    "ordering_rules = np.array(ordering_rules)"
   ]
  },
  {
   "cell_type": "code",
   "execution_count": 17,
   "id": "1a0dc8e8-4d3f-4c4e-9cd9-1b26a4982ff3",
   "metadata": {},
   "outputs": [],
   "source": [
    "def ord_less_then(A,B):\n",
    "    return ((ordering_rules[:,0] == A) & (ordering_rules[:,1] == B)).any()"
   ]
  },
  {
   "cell_type": "code",
   "execution_count": 18,
   "id": "4d7ea713-e970-4fc9-a978-867f0b1bf456",
   "metadata": {},
   "outputs": [],
   "source": [
    "def bubble_sort(the_list):\n",
    "    given_list = np.copy(the_list)\n",
    "    for _ in range(len(given_list)):\n",
    "        for i in range(1, len(given_list)):\n",
    "            if not ord_less_then(given_list[i - 1], given_list[i]):\n",
    "                given_list[i - 1], given_list[i] = given_list[i], given_list[i - 1]\n",
    "    return given_list"
   ]
  },
  {
   "cell_type": "code",
   "execution_count": 19,
   "id": "7c2b8f2d-e48d-4d12-9add-648415e006f0",
   "metadata": {
    "tags": []
   },
   "outputs": [
    {
     "name": "stdout",
     "output_type": "stream",
     "text": [
      "4959\n"
     ]
    }
   ],
   "source": [
    "# Part 1\n",
    "ans = 0\n",
    "for order in update_order:\n",
    "    order = np.array(order)\n",
    "    if (bubble_sort(bubble_sort(bubble_sort(order))) == order).all():\n",
    "        ans += order[len(order)//2]\n",
    "print(ans)"
   ]
  },
  {
   "cell_type": "code",
   "execution_count": 20,
   "id": "b9e9d800-89cf-46e9-9251-dc8ea3cc0170",
   "metadata": {
    "tags": []
   },
   "outputs": [
    {
     "name": "stdout",
     "output_type": "stream",
     "text": [
      "4655\n"
     ]
    }
   ],
   "source": [
    "#Part 2\n",
    "ans = 0\n",
    "for order in update_order:\n",
    "    order = np.array(order)\n",
    "    sorted_order = bubble_sort(order)\n",
    "    if not (sorted_order == order).all():\n",
    "        ans += sorted_order[len(order)//2]\n",
    "print(ans)"
   ]
  }
 ],
 "metadata": {
  "kernelspec": {
   "display_name": "Python 3 (ipykernel)",
   "language": "python",
   "name": "python3"
  },
  "language_info": {
   "codemirror_mode": {
    "name": "ipython",
    "version": 3
   },
   "file_extension": ".py",
   "mimetype": "text/x-python",
   "name": "python",
   "nbconvert_exporter": "python",
   "pygments_lexer": "ipython3",
   "version": "3.10.4"
  }
 },
 "nbformat": 4,
 "nbformat_minor": 5
}
