{
 "cells": [
  {
   "cell_type": "code",
   "execution_count": 1,
   "id": "caf1dafd-cbe3-4b19-8cb8-2b9804c63254",
   "metadata": {},
   "outputs": [],
   "source": [
    "import numpy as np\n",
    "\n"
   ]
  },
  {
   "cell_type": "markdown",
   "id": "1752154c-ea15-4255-8644-42ceec8e5bf4",
   "metadata": {},
   "source": [
    "## Day1\n",
    "\n",
    "https://adventofcode.com/2024/day/1"
   ]
  },
  {
   "cell_type": "code",
   "execution_count": 2,
   "id": "04d57ed3-d12f-4b43-b994-473237ceb308",
   "metadata": {},
   "outputs": [
    {
     "name": "stdout",
     "output_type": "stream",
     "text": [
      "2815556.0\n"
     ]
    }
   ],
   "source": [
    "#Part 1\n",
    "data = np.loadtxt(\"./puzzle_files/aoc1.txt\")\n",
    "print(np.abs(np.sort(data[:,0]) - np.sort(data[:,1])).sum())"
   ]
  },
  {
   "cell_type": "code",
   "execution_count": 3,
   "id": "69c5aa27-0b7c-4017-8f63-b78aed245f8c",
   "metadata": {},
   "outputs": [
    {
     "name": "stdout",
     "output_type": "stream",
     "text": [
      "23927637.0\n"
     ]
    }
   ],
   "source": [
    "# Part 2\n",
    "ans = 0\n",
    "for k in data[:,0]:\n",
    "    ans += k*(data[:,1] == k).sum()\n",
    "print(ans)"
   ]
  },
  {
   "cell_type": "markdown",
   "id": "02e5b292-e840-4809-a3a8-284f2e0861ca",
   "metadata": {},
   "source": [
    "## Day 2\n",
    "\n",
    "https://adventofcode.com/2024/day/2"
   ]
  },
  {
   "cell_type": "code",
   "execution_count": 4,
   "id": "e4c69ad4-f06a-4fb5-812a-d1c0101e4ac3",
   "metadata": {},
   "outputs": [],
   "source": [
    "with open(\"./puzzle_files/aoc2.txt\", \"r\") as f:\n",
    "    lines = f.readlines()\n",
    "    #print(lines)\n",
    "\n",
    "def report_safe(dd):\n",
    "    return (((dd == np.sort(dd)).all() or (dd == np.sort(dd)[::-1]).all()) and (np.abs(np.diff(dd)) <= 3).all() and (np.abs(np.diff(dd)) >= 1).all())"
   ]
  },
  {
   "cell_type": "code",
   "execution_count": 5,
   "id": "b5a56ab2-fc35-41c5-acc4-42e603153495",
   "metadata": {},
   "outputs": [
    {
     "name": "stdout",
     "output_type": "stream",
     "text": [
      "230\n"
     ]
    }
   ],
   "source": [
    "# Part 1\n",
    "ans = 0\n",
    "for line in lines:\n",
    "    dd = np.array(line.split(), dtype=np.float64)\n",
    "    if report_safe(dd):\n",
    "        ans += 1\n",
    "\n",
    "print(ans)"
   ]
  },
  {
   "cell_type": "code",
   "execution_count": 6,
   "id": "8c31ee5c-2fa3-498c-a9a2-4846eb828212",
   "metadata": {},
   "outputs": [
    {
     "name": "stdout",
     "output_type": "stream",
     "text": [
      "301\n"
     ]
    }
   ],
   "source": [
    "# Part 2\n",
    "ans = 0\n",
    "for line in lines:\n",
    "    dd = np.array(line.split(), dtype=np.float64)\n",
    "    if report_safe(dd):\n",
    "        ans += 1\n",
    "    else:\n",
    "        for i in range(len(dd)):\n",
    "            dd2 = np.delete(np.copy(dd), i)\n",
    "            if report_safe(dd2):\n",
    "                ans += 1\n",
    "                break\n",
    "\n",
    "print(ans)"
   ]
  },
  {
   "cell_type": "markdown",
   "id": "24cce0b3-5311-4488-a3ca-ffaec2c38513",
   "metadata": {},
   "source": [
    "## Day 3\n",
    "\n",
    "https://adventofcode.com/2024/day/3"
   ]
  },
  {
   "cell_type": "code",
   "execution_count": 7,
   "id": "789c6210-21ae-46c6-bf36-6296fe0a0e40",
   "metadata": {},
   "outputs": [],
   "source": [
    "with open(\"./puzzle_files/aoc3.txt\", \"r\") as f:\n",
    "    lines = f.readlines()"
   ]
  },
  {
   "cell_type": "code",
   "execution_count": 8,
   "id": "8bcd054e-2505-46d9-88ee-fda43d60a735",
   "metadata": {},
   "outputs": [
    {
     "name": "stdout",
     "output_type": "stream",
     "text": [
      "170778545.0\n"
     ]
    }
   ],
   "source": [
    "import re\n",
    "# Part 1\n",
    "ans = 0\n",
    "for line in lines:\n",
    "    muls = re.findall(\"mul\\(\\d+,\\d+\\)\", line)\n",
    "    nums = np.array([mul[4:-1].split(',') for mul in muls], dtype=np.uint64)\n",
    "    ans += (nums.prod(axis=1)).sum()\n",
    "print(ans)"
   ]
  },
  {
   "cell_type": "code",
   "execution_count": 9,
   "id": "3f7c30df-4a15-44f4-8655-fc2cdd4b24bf",
   "metadata": {},
   "outputs": [
    {
     "name": "stdout",
     "output_type": "stream",
     "text": [
      "82868252.0\n"
     ]
    }
   ],
   "source": [
    "# Part 2\n",
    "ans = 0\n",
    "doflag = True\n",
    "for line in lines:\n",
    "    muls = re.findall(\"(mul\\(\\d+,\\d+\\))|(do\\(\\))|(don\\'t\\(\\))\", line)\n",
    "    mul_array = []\n",
    "    for mul in muls:\n",
    "        if len(mul[1])+len(mul[2]) > 0:\n",
    "            assert len(mul[0]) == 0\n",
    "            if mul[1] == 'do()':\n",
    "                doflag=True\n",
    "            elif mul[2] == \"don't()\":\n",
    "                doflag=False\n",
    "            else:\n",
    "                raise RunTimeError\n",
    "        else:\n",
    "            assert len(mul[0]) > 0\n",
    "            if doflag:\n",
    "                mul_array.append(mul[0][4:-1].split(','))\n",
    "\n",
    "    ans += np.array(mul_array, dtype=np.uint64).prod(axis=1).sum()\n",
    "print(ans)\n"
   ]
  },
  {
   "cell_type": "markdown",
   "id": "61636bd4-2a3a-49a3-bfb1-5b14f26523fe",
   "metadata": {},
   "source": [
    "## Day 4\n",
    "\n",
    "https://adventofcode.com/2024/day/4"
   ]
  },
  {
   "cell_type": "code",
   "execution_count": 10,
   "id": "5d95c9d0-83c0-48be-9b84-2aecc6127b12",
   "metadata": {},
   "outputs": [],
   "source": [
    "# Part 1\n",
    "lines = np.loadtxt(\"./puzzle_files/aoc4.txt\", dtype=str)\n",
    "# make array\n",
    "data = np.zeros((140, 140), dtype=str)\n",
    "\n",
    "for i in range(len(lines)):\n",
    "    data[i] = list(lines[i])"
   ]
  },
  {
   "cell_type": "code",
   "execution_count": 11,
   "id": "7ff31912-8177-4574-9e8e-f9f6396027fc",
   "metadata": {},
   "outputs": [
    {
     "name": "stdout",
     "output_type": "stream",
     "text": [
      "2358\n"
     ]
    }
   ],
   "source": [
    "# Part 1\n",
    "ans = 0\n",
    "for line in data:\n",
    "    muls = re.findall(\"(XMAS)\", ''.join(line))\n",
    "    ans += len(muls)\n",
    "    muls = re.findall(\"(SAMX)\", ''.join(line))\n",
    "    ans += len(muls)\n",
    "\n",
    "#transpose\n",
    "for line in data.T:\n",
    "    muls = re.findall(\"(XMAS)\", ''.join(line))\n",
    "    ans += len(muls)\n",
    "    muls = re.findall(\"(SAMX)\", ''.join(line))\n",
    "    ans += len(muls)\n",
    "\n",
    "#digonal\n",
    "for i in range(-139, 140):\n",
    "    line = np.diagonal(data, i)\n",
    "    muls = re.findall(\"(XMAS)\", ''.join(line))\n",
    "    ans += len(muls)\n",
    "    muls = re.findall(\"(SAMX)\", ''.join(line))\n",
    "    ans += len(muls)\n",
    "    line = np.diagonal(np.fliplr(data), i)\n",
    "    muls = re.findall(\"(XMAS)\", ''.join(line))\n",
    "    ans += len(muls)\n",
    "    muls = re.findall(\"(SAMX)\", ''.join(line))\n",
    "    ans += len(muls)\n",
    "print(ans)"
   ]
  },
  {
   "cell_type": "code",
   "execution_count": 12,
   "id": "01a5808b-5138-4c8b-b845-ac162567cd8d",
   "metadata": {},
   "outputs": [
    {
     "name": "stdout",
     "output_type": "stream",
     "text": [
      "1737\n"
     ]
    }
   ],
   "source": [
    "# Part 2\n",
    "ans = 0\n",
    "for i in range(1, 139):\n",
    "    for j in range(1, 139):\n",
    "        box = data[i-1:i+2, j-1:j+2]\n",
    "        diag1 = ''.join(box.diagonal())\n",
    "        diag2 = ''.join(np.fliplr(box).diagonal())\n",
    "        if ((diag1 == \"MAS\") or (diag1 == \"SAM\")) and ((diag2 == \"MAS\") or (diag2 == \"SAM\")):\n",
    "            ans += 1\n",
    "print(ans)"
   ]
  },
  {
   "cell_type": "markdown",
   "id": "5b95f97b-20c2-4a55-a82e-9fa587e89ba2",
   "metadata": {},
   "source": [
    "## Day 5\n",
    "\n",
    "https://adventofcode.com/2024/day/5"
   ]
  },
  {
   "cell_type": "code",
   "execution_count": 13,
   "id": "f3425d94-6e45-4a98-99cb-5327a0b85a6e",
   "metadata": {},
   "outputs": [],
   "source": [
    "with open(\"./puzzle_files/aoc5.txt\", \"r\") as f:\n",
    "    lines = f.readlines()"
   ]
  },
  {
   "cell_type": "code",
   "execution_count": 14,
   "id": "9a2867bd-3f8d-472d-a26a-862319a96d5d",
   "metadata": {},
   "outputs": [],
   "source": [
    "ordering_rules = []\n",
    "update_order = []\n",
    "for line in lines:\n",
    "    if (len(line) == 6) and (line[2] == \"|\"):\n",
    "        ordering_rules.append([int(value) for value in line[:-1].split(\"|\")])\n",
    "    elif len(line) > 1:\n",
    "        update_order.append([int(value) for value in line[:-1].split(\",\")])\n",
    "        \n",
    "ordering_rules = np.array(ordering_rules)"
   ]
  },
  {
   "cell_type": "code",
   "execution_count": 15,
   "id": "1a0dc8e8-4d3f-4c4e-9cd9-1b26a4982ff3",
   "metadata": {},
   "outputs": [],
   "source": [
    "def ord_less_then(A,B):\n",
    "    return ((ordering_rules[:,0] == A) & (ordering_rules[:,1] == B)).any()"
   ]
  },
  {
   "cell_type": "code",
   "execution_count": 16,
   "id": "4d7ea713-e970-4fc9-a978-867f0b1bf456",
   "metadata": {},
   "outputs": [],
   "source": [
    "def bubble_sort(the_list):\n",
    "    given_list = np.copy(the_list)\n",
    "    for _ in range(len(given_list)):\n",
    "        for i in range(1, len(given_list)):\n",
    "            if not ord_less_then(given_list[i - 1], given_list[i]):\n",
    "                given_list[i - 1], given_list[i] = given_list[i], given_list[i - 1]\n",
    "    return given_list"
   ]
  },
  {
   "cell_type": "code",
   "execution_count": 17,
   "id": "7c2b8f2d-e48d-4d12-9add-648415e006f0",
   "metadata": {
    "tags": []
   },
   "outputs": [
    {
     "name": "stdout",
     "output_type": "stream",
     "text": [
      "4959\n"
     ]
    }
   ],
   "source": [
    "# Part 1\n",
    "ans = 0\n",
    "for order in update_order:\n",
    "    order = np.array(order)\n",
    "    if (bubble_sort(bubble_sort(bubble_sort(order))) == order).all():\n",
    "        ans += order[len(order)//2]\n",
    "print(ans)"
   ]
  },
  {
   "cell_type": "code",
   "execution_count": 18,
   "id": "b9e9d800-89cf-46e9-9251-dc8ea3cc0170",
   "metadata": {
    "tags": []
   },
   "outputs": [
    {
     "name": "stdout",
     "output_type": "stream",
     "text": [
      "4655\n"
     ]
    }
   ],
   "source": [
    "#Part 2\n",
    "ans = 0\n",
    "for order in update_order:\n",
    "    order = np.array(order)\n",
    "    sorted_order = bubble_sort(order)\n",
    "    if not (sorted_order == order).all():\n",
    "        ans += sorted_order[len(order)//2]\n",
    "print(ans)"
   ]
  },
  {
   "cell_type": "markdown",
   "id": "9e7dadf2-ea9d-438f-8b21-474822600615",
   "metadata": {},
   "source": [
    "## Day 6\n",
    "https://adventofcode.com/2024/day/6\n"
   ]
  },
  {
   "cell_type": "code",
   "execution_count": 19,
   "id": "2ba555c9-aaf6-43f7-a361-88deb190f924",
   "metadata": {},
   "outputs": [],
   "source": [
    "with open(\"./puzzle_files/aoc6.txt\", \"r\") as f:\n",
    "    lines = f.read().splitlines() \n",
    "floor_map = np.zeros((len(lines), len(lines[0])), dtype=str)\n",
    "for i, line in enumerate(lines):\n",
    "    floor_map[i] = list(line)"
   ]
  },
  {
   "cell_type": "code",
   "execution_count": 20,
   "id": "f32ae0d0-d18d-453f-8c38-0bd00547f5ac",
   "metadata": {},
   "outputs": [],
   "source": [
    "def move(pos, direction):\n",
    "    if direction == 0:\n",
    "        obstacle = np.where(floor_map[:pos[0], pos[1]] == '#')[0]\n",
    "        if len(obstacle) == 0:\n",
    "            obstacle = -1\n",
    "        else:\n",
    "            obstacle = np.max(obstacle)\n",
    "        presense_map[obstacle+1:pos[0], pos[1]] = True\n",
    "        new_pos = [obstacle+1, pos[1]]\n",
    "        return new_pos, (direction + 1)%4\n",
    "    elif direction == 1:\n",
    "        obstacle = np.where(floor_map[pos[0], pos[1]:] == '#')[0]\n",
    "        if len(obstacle) == 0:\n",
    "            obstacle = floor_map.shape[1]\n",
    "        else:\n",
    "            obstacle = np.min(obstacle)\n",
    "        presense_map[pos[0], pos[1]:pos[1]+obstacle] = True\n",
    "        new_pos = [pos[0], pos[1] + obstacle-1]\n",
    "        return new_pos, (direction + 1)%4\n",
    "    elif direction == 2:\n",
    "        obstacle = np.where(floor_map[pos[0]:, pos[1]] == '#')[0]\n",
    "        if len(obstacle) == 0:\n",
    "            obstacle = floor_map.shape[0]\n",
    "        else:\n",
    "            obstacle = np.min(obstacle)\n",
    "        presense_map[pos[0]:pos[0]+obstacle, pos[1]] = True\n",
    "        new_pos = [pos[0] + obstacle-1, pos[1]]\n",
    "        return new_pos, (direction + 1)%4\n",
    "    elif direction == 3:\n",
    "        obstacle = np.where(floor_map[pos[0], :pos[1]] == '#')[0]\n",
    "        if len(obstacle) == 0:\n",
    "            obstacle = -1\n",
    "        else:\n",
    "            obstacle = np.max(obstacle)\n",
    "        presense_map[pos[0], obstacle+1:pos[1]] = True\n",
    "        new_pos = [pos[0], obstacle+1]\n",
    "        return new_pos, (direction + 1)%4\n",
    "    else:\n",
    "        raise RunTimeError(\"Invalid Direction\")\n",
    "\n",
    "def in_map(pos, direction):\n",
    "    top_exit = ((pos[0] == 0) and (direction == 1))\n",
    "    right_exit = ((pos[1] >= floor_map.shape[1]) and (direction == 2))\n",
    "    down_exit = ((pos[0] >= floor_map.shape[0]) and (direction == 3))\n",
    "    left_exit = ((pos[1] == 0) and (direction == 0))\n",
    "    return not(top_exit or right_exit or down_exit or left_exit)\n",
    "\n",
    "def looping(new_pos, new_dir, pos_history, dir_history):\n",
    "    pos_a = np.array(pos_history)\n",
    "    dir_a = np.array(dir_history)\n",
    "    return ((new_pos[0] == pos_a[:,0]) & (new_pos[1] == pos_a[:,1]) &(new_dir == dir_a)).sum() == 1"
   ]
  },
  {
   "cell_type": "code",
   "execution_count": 21,
   "id": "50f11a77-a7d7-4094-a850-6766344351ae",
   "metadata": {},
   "outputs": [
    {
     "name": "stdout",
     "output_type": "stream",
     "text": [
      "5269\n"
     ]
    }
   ],
   "source": [
    "# Part 1\n",
    "presense_map = (floor_map == '^')\n",
    "starting_pos = list(np.array(np.nonzero(presense_map)).flatten())\n",
    "new_pos, new_dir = move(starting_pos, 0)\n",
    "while in_map(new_pos, new_dir):\n",
    "    new_pos, new_dir = move(new_pos, new_dir)\n",
    "print(presense_map.sum())"
   ]
  },
  {
   "cell_type": "code",
   "execution_count": 22,
   "id": "06610237-dcf9-485c-bc14-3563072e5cbf",
   "metadata": {},
   "outputs": [
    {
     "data": {
      "application/vnd.jupyter.widget-view+json": {
       "model_id": "4e2ad571576844c69cba28c703f6f49b",
       "version_major": 2,
       "version_minor": 0
      },
      "text/plain": [
       "  0%|          | 0/5269 [00:00<?, ?it/s]"
      ]
     },
     "metadata": {},
     "output_type": "display_data"
    },
    {
     "name": "stdout",
     "output_type": "stream",
     "text": [
      "1954\n"
     ]
    }
   ],
   "source": [
    "# Part 2 (Wrong)\n",
    "from tqdm.notebook import trange\n",
    "floor_map_main_copy = np.copy(floor_map)\n",
    "presense_map_main_copy = np.copy(presense_map)\n",
    "ans = 0\n",
    "x_obs = np.where(presense_map_main_copy)[0]\n",
    "y_obs = np.where(presense_map_main_copy)[1]\n",
    "for i in trange(len(x_obs)):\n",
    "    if x_obs[i] == starting_pos[0] and y_obs[i] == starting_pos[1]:\n",
    "        continue\n",
    "    floor_map = np.copy(floor_map_main_copy)\n",
    "    presense_map = (floor_map == '^')\n",
    "    starting_pos = list(np.array(np.nonzero(presense_map)).flatten())\n",
    "    new_pos, new_dir = move(starting_pos, 0)\n",
    "    pos_history = [starting_pos,new_pos]\n",
    "    dir_history = [0, new_dir]\n",
    "    floor_map[x_obs[i], y_obs[i]] = '#'\n",
    "    while in_map(new_pos, new_dir):\n",
    "        new_pos, new_dir = move(new_pos, new_dir)\n",
    "        if looping(new_pos, new_dir, pos_history, dir_history):\n",
    "            ans += 1\n",
    "            break\n",
    "        pos_history.append(new_pos)\n",
    "        dir_history.append(new_dir)\n",
    "print(ans)"
   ]
  },
  {
   "cell_type": "markdown",
   "id": "475c38d6-f9df-4f2d-aeb8-cc76ab7f8aea",
   "metadata": {},
   "source": [
    "## Day 7\n",
    "\n",
    "https://adventofcode.com/2024/day/7"
   ]
  },
  {
   "cell_type": "code",
   "execution_count": 23,
   "id": "0cac7ef2-99cb-458e-bc70-dbea99d59c30",
   "metadata": {},
   "outputs": [],
   "source": [
    "with open(\"./puzzle_files/aoc7.txt\", \"r\") as f:\n",
    "    lines = f.read().splitlines() "
   ]
  },
  {
   "cell_type": "code",
   "execution_count": 24,
   "id": "ff74e91e-47dc-4e55-9695-26ba6eb6dac3",
   "metadata": {},
   "outputs": [],
   "source": [
    "results = []\n",
    "input_array = []\n",
    "for line in lines:\n",
    "    split_line = line.split(\":\")\n",
    "    results.append(int(split_line[0]))\n",
    "    input_array.append([int(k) for k in split_line[1].split()])"
   ]
  },
  {
   "cell_type": "code",
   "execution_count": 28,
   "id": "4b91c44f-d9b2-4ada-8fb6-45da76ec1f76",
   "metadata": {},
   "outputs": [],
   "source": [
    "import itertools\n",
    "def find_operation_combinations(N, operators=\"+*|\"):\n",
    "    return itertools.product(operators, repeat=N-1)"
   ]
  },
  {
   "cell_type": "code",
   "execution_count": 26,
   "id": "d431306b-0392-4ce4-a97e-9ff0dd34834c",
   "metadata": {},
   "outputs": [],
   "source": [
    "def evaluate(inputtt, operations):\n",
    "    ans = inputtt[0]\n",
    "    for i in range(len(operations)):\n",
    "        if operations[i] == \"|\":\n",
    "            ans = int(f\"{ans}{inputtt[i+1]}\")\n",
    "        else:\n",
    "            ans = eval(f\"ans {operations[i]} {inputtt[i+1]}\")\n",
    "    return ans"
   ]
  },
  {
   "cell_type": "code",
   "execution_count": 29,
   "id": "7361446c-336b-4b54-baee-899dbb67647d",
   "metadata": {},
   "outputs": [
    {
     "data": {
      "application/vnd.jupyter.widget-view+json": {
       "model_id": "9b26dff66c2f44a3aa2b4a803acaee20",
       "version_major": 2,
       "version_minor": 0
      },
      "text/plain": [
       "  0%|          | 0/850 [00:00<?, ?it/s]"
      ]
     },
     "metadata": {},
     "output_type": "display_data"
    },
    {
     "name": "stdout",
     "output_type": "stream",
     "text": [
      "267566105056\n"
     ]
    }
   ],
   "source": [
    "ans = 0\n",
    "from tqdm.notebook import tqdm\n",
    "for inputs, result in tqdm(zip(input_array, results), total=len(input_array)):\n",
    "    for operation in find_operation_combinations(len(inputs), operators=\"+*\"):\n",
    "        if evaluate(inputs, operation) == result:\n",
    "            ans += result\n",
    "            break\n",
    "print(ans)"
   ]
  },
  {
   "cell_type": "code",
   "execution_count": 27,
   "id": "d62d2569-db91-4ad7-9fac-d5807c2c5cb5",
   "metadata": {},
   "outputs": [
    {
     "data": {
      "application/vnd.jupyter.widget-view+json": {
       "model_id": "12b47321431d4546af1d775ba57b516d",
       "version_major": 2,
       "version_minor": 0
      },
      "text/plain": [
       "  0%|          | 0/850 [00:00<?, ?it/s]"
      ]
     },
     "metadata": {},
     "output_type": "display_data"
    },
    {
     "name": "stdout",
     "output_type": "stream",
     "text": [
      "116094961956019\n"
     ]
    }
   ],
   "source": [
    "ans = 0\n",
    "from tqdm.notebook import tqdm\n",
    "for inputs, result in tqdm(zip(input_array, results), total=len(input_array)):\n",
    "    for operation in find_operation_combinations(len(inputs)):\n",
    "        if evaluate(inputs, operation) == result:\n",
    "            ans += result\n",
    "            break\n",
    "print(ans)"
   ]
  },
  {
   "cell_type": "code",
   "execution_count": null,
   "id": "1de8977f-a242-4125-b480-a63355c55f63",
   "metadata": {},
   "outputs": [],
   "source": []
  }
 ],
 "metadata": {
  "kernelspec": {
   "display_name": "Python 3 (ipykernel)",
   "language": "python",
   "name": "python3"
  },
  "language_info": {
   "codemirror_mode": {
    "name": "ipython",
    "version": 3
   },
   "file_extension": ".py",
   "mimetype": "text/x-python",
   "name": "python",
   "nbconvert_exporter": "python",
   "pygments_lexer": "ipython3",
   "version": "3.10.4"
  }
 },
 "nbformat": 4,
 "nbformat_minor": 5
}
