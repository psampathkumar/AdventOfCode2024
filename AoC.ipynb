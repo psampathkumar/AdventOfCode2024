{
 "cells": [
  {
   "cell_type": "code",
   "execution_count": 1,
   "id": "caf1dafd-cbe3-4b19-8cb8-2b9804c63254",
   "metadata": {},
   "outputs": [],
   "source": [
    "import numpy as np\n",
    "\n"
   ]
  },
  {
   "cell_type": "markdown",
   "id": "1752154c-ea15-4255-8644-42ceec8e5bf4",
   "metadata": {},
   "source": [
    "## Day1\n",
    "\n",
    "https://adventofcode.com/2024/day/1"
   ]
  },
  {
   "cell_type": "code",
   "execution_count": 2,
   "id": "04d57ed3-d12f-4b43-b994-473237ceb308",
   "metadata": {},
   "outputs": [
    {
     "name": "stdout",
     "output_type": "stream",
     "text": [
      "2815556.0\n"
     ]
    }
   ],
   "source": [
    "#Part 1\n",
    "data = np.loadtxt(\"./puzzle_files/aoc1.txt\")\n",
    "print(np.abs(np.sort(data[:,0]) - np.sort(data[:,1])).sum())"
   ]
  },
  {
   "cell_type": "code",
   "execution_count": 3,
   "id": "69c5aa27-0b7c-4017-8f63-b78aed245f8c",
   "metadata": {},
   "outputs": [
    {
     "name": "stdout",
     "output_type": "stream",
     "text": [
      "23927637.0\n"
     ]
    }
   ],
   "source": [
    "# Part 2\n",
    "ans = 0\n",
    "for k in data[:,0]:\n",
    "    ans += k*(data[:,1] == k).sum()\n",
    "print(ans)"
   ]
  },
  {
   "cell_type": "markdown",
   "id": "02e5b292-e840-4809-a3a8-284f2e0861ca",
   "metadata": {},
   "source": [
    "## Day 2\n",
    "\n",
    "https://adventofcode.com/2024/day/2"
   ]
  },
  {
   "cell_type": "code",
   "execution_count": 4,
   "id": "e4c69ad4-f06a-4fb5-812a-d1c0101e4ac3",
   "metadata": {},
   "outputs": [],
   "source": [
    "with open(\"./puzzle_files/aoc2.txt\", \"r\") as f:\n",
    "    lines = f.readlines()\n",
    "    #print(lines)\n",
    "\n",
    "def report_safe(dd):\n",
    "    return (((dd == np.sort(dd)).all() or (dd == np.sort(dd)[::-1]).all()) and (np.abs(np.diff(dd)) <= 3).all() and (np.abs(np.diff(dd)) >= 1).all())"
   ]
  },
  {
   "cell_type": "code",
   "execution_count": 5,
   "id": "b5a56ab2-fc35-41c5-acc4-42e603153495",
   "metadata": {},
   "outputs": [
    {
     "name": "stdout",
     "output_type": "stream",
     "text": [
      "230\n"
     ]
    }
   ],
   "source": [
    "# Part 1\n",
    "ans = 0\n",
    "for line in lines:\n",
    "    dd = np.array(line.split(), dtype=np.float64)\n",
    "    if report_safe(dd):\n",
    "        ans += 1\n",
    "\n",
    "print(ans)"
   ]
  },
  {
   "cell_type": "code",
   "execution_count": 6,
   "id": "8c31ee5c-2fa3-498c-a9a2-4846eb828212",
   "metadata": {},
   "outputs": [
    {
     "name": "stdout",
     "output_type": "stream",
     "text": [
      "301\n"
     ]
    }
   ],
   "source": [
    "# Part 2\n",
    "ans = 0\n",
    "for line in lines:\n",
    "    dd = np.array(line.split(), dtype=np.float64)\n",
    "    if report_safe(dd):\n",
    "        ans += 1\n",
    "    else:\n",
    "        for i in range(len(dd)):\n",
    "            dd2 = np.delete(np.copy(dd), i)\n",
    "            if report_safe(dd2):\n",
    "                ans += 1\n",
    "                break\n",
    "\n",
    "print(ans)"
   ]
  },
  {
   "cell_type": "markdown",
   "id": "24cce0b3-5311-4488-a3ca-ffaec2c38513",
   "metadata": {},
   "source": [
    "## Day 3"
   ]
  },
  {
   "cell_type": "code",
   "execution_count": 7,
   "id": "789c6210-21ae-46c6-bf36-6296fe0a0e40",
   "metadata": {},
   "outputs": [],
   "source": [
    "with open(\"./puzzle_files/aoc3.txt\", \"r\") as f:\n",
    "    lines = f.readlines()"
   ]
  },
  {
   "cell_type": "code",
   "execution_count": 43,
   "id": "8bcd054e-2505-46d9-88ee-fda43d60a735",
   "metadata": {},
   "outputs": [
    {
     "name": "stdout",
     "output_type": "stream",
     "text": [
      "170778545.0\n"
     ]
    }
   ],
   "source": [
    "import re\n",
    "# Part 1\n",
    "ans = 0\n",
    "for line in lines:\n",
    "    muls = re.findall(\"mul\\(\\d+,\\d+\\)\", line)\n",
    "    nums = np.array([mul[4:-1].split(',') for mul in muls], dtype=np.uint64)\n",
    "    ans += (nums.prod(axis=1)).sum()\n",
    "print(ans)"
   ]
  },
  {
   "cell_type": "code",
   "execution_count": 82,
   "id": "3f7c30df-4a15-44f4-8655-fc2cdd4b24bf",
   "metadata": {},
   "outputs": [
    {
     "name": "stdout",
     "output_type": "stream",
     "text": [
      "82868252.0\n"
     ]
    }
   ],
   "source": [
    "# Part 2\n",
    "ans = 0\n",
    "doflag = True\n",
    "for line in lines:\n",
    "    muls = re.findall(\"(mul\\(\\d+,\\d+\\))|(do\\(\\))|(don\\'t\\(\\))\", line)\n",
    "    mul_array = []\n",
    "    for mul in muls:\n",
    "        if len(mul[1])+len(mul[2]) > 0:\n",
    "            assert len(mul[0]) == 0\n",
    "            if mul[1] == 'do()':\n",
    "                doflag=True\n",
    "            elif mul[2] == \"don't()\":\n",
    "                doflag=False\n",
    "            else:\n",
    "                raise RunTimeError\n",
    "        else:\n",
    "            assert len(mul[0]) > 0\n",
    "            if doflag:\n",
    "                mul_array.append(mul[0][4:-1].split(','))\n",
    "\n",
    "    ans += np.array(mul_array, dtype=np.uint64).prod(axis=1).sum()\n",
    "print(ans)\n"
   ]
  },
  {
   "cell_type": "code",
   "execution_count": null,
   "id": "33d811cc-b17b-4225-84fb-e4ba48939280",
   "metadata": {},
   "outputs": [],
   "source": []
  }
 ],
 "metadata": {
  "kernelspec": {
   "display_name": "Python 3 (ipykernel)",
   "language": "python",
   "name": "python3"
  },
  "language_info": {
   "codemirror_mode": {
    "name": "ipython",
    "version": 3
   },
   "file_extension": ".py",
   "mimetype": "text/x-python",
   "name": "python",
   "nbconvert_exporter": "python",
   "pygments_lexer": "ipython3",
   "version": "3.10.15"
  }
 },
 "nbformat": 4,
 "nbformat_minor": 5
}
